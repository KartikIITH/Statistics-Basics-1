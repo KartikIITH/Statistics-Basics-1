{
  "nbformat": 4,
  "nbformat_minor": 0,
  "metadata": {
    "colab": {
      "provenance": []
    },
    "kernelspec": {
      "name": "python3",
      "display_name": "Python 3"
    },
    "language_info": {
      "name": "python"
    }
  },
  "cells": [
    {
      "cell_type": "markdown",
      "source": [
        "1. What is statistics, and why is it important?\n",
        "- Statistics is the science of collecting, analyzing, interpreting, and presenting data. It is important because it helps make informed decisions, identify trends, and solve real-world problems in fields like business, healthcare, and engineering."
      ],
      "metadata": {
        "id": "syiy887bhAPQ"
      }
    },
    {
      "cell_type": "markdown",
      "source": [
        "2. What are the two main types of statistics?\n",
        "- Descriptive Statistics: Summarize and describe data (e.g., mean, median).\n",
        "\n",
        "- Inferential Statistics: Make predictions or inferences about a population based on sample data."
      ],
      "metadata": {
        "id": "xGuHCRYvhDpp"
      }
    },
    {
      "cell_type": "markdown",
      "source": [
        "3. What are descriptive statistics?\n",
        "- Descriptive statistics summarize and organize data using measures like mean, median, mode, range, variance, and graphs such as histograms or pie charts."
      ],
      "metadata": {
        "id": "d5LWEKvlhIvH"
      }
    },
    {
      "cell_type": "markdown",
      "source": [
        "4. What is inferential statistics?\n",
        "- Inferential statistics use sample data to make generalizations about a larger population. Techniques include hypothesis testing, confidence intervals, and regression analysis."
      ],
      "metadata": {
        "id": "fB5PWAOYhL28"
      }
    },
    {
      "cell_type": "markdown",
      "source": [
        "5. What is sampling in statistics?\n",
        "- Sampling involves selecting a subset of individuals or observations from a population to study and draw conclusions about the entire population."
      ],
      "metadata": {
        "id": "ZMwxeFlxhOq8"
      }
    },
    {
      "cell_type": "markdown",
      "source": [
        "6. What are the different types of sampling methods?\n",
        "- Random Sampling: Every individual has an equal chance of selection.\n",
        "\n",
        "- Stratified Sampling: Population divided into strata; samples taken proportionally.\n",
        "\n",
        "- Systematic Sampling: Select every nth individual.\n",
        "\n",
        "- Cluster Sampling: Randomly select groups (clusters) instead of individuals.\n",
        "\n",
        "- Convenience Sampling: Use readily available subjects."
      ],
      "metadata": {
        "id": "WtjiavSbhRsk"
      }
    },
    {
      "cell_type": "markdown",
      "source": [
        "7. What is the difference between random and non-random sampling?\n",
        "- Random Sampling: Ensures unbiased representation; every individual has equal probability.\n",
        "\n",
        "- Non-Random Sampling: May introduce bias; selection depends on convenience or judgment.\n",
        "\n"
      ],
      "metadata": {
        "id": "HWbrqUz_hZvX"
      }
    },
    {
      "cell_type": "markdown",
      "source": [
        "8. Define and give examples of qualitative and quantitative data.\n",
        "- Qualitative Data: Non-numerical (e.g., colors, names). Example: \"Red\" or \"Blue.\"\n",
        "\n",
        "- Quantitative Data: Numerical (e.g., height, weight). Example: 5 kg or 180 cm."
      ],
      "metadata": {
        "id": "AQ9bbvpehdqZ"
      }
    },
    {
      "cell_type": "markdown",
      "source": [
        "9. What are the different types of data in statistics?\n",
        "- Nominal Data: Categories without order (e.g., gender).\n",
        "\n",
        "- Ordinal Data: Ordered categories (e.g., rankings).\n",
        "\n",
        "- Interval Data: Numerical values without true zero (e.g., temperature).\n",
        "\n",
        "- Ratio Data: Numerical values with true zero (e.g., weight)."
      ],
      "metadata": {
        "id": "FoJyuUe3hiA5"
      }
    },
    {
      "cell_type": "markdown",
      "source": [
        "10. Explain nominal, ordinal, interval, and ratio levels of measurement.\n",
        "- Nominal: Categorical without order (e.g., colors).\n",
        "\n",
        "- Ordinal: Categorical with order but no fixed intervals (e.g., rankings).\n",
        "\n",
        "- Interval: Numerical with equal intervals but no true zero (e.g., temperature).\n",
        "\n",
        "- Ratio: Numerical with equal intervals and true zero (e.g., height).\n",
        "\n"
      ],
      "metadata": {
        "id": "QtPHTm1lhobd"
      }
    },
    {
      "cell_type": "markdown",
      "source": [
        "11. What is the measure of central tendency?\n",
        "- Measures that represent the center or typical value in a dataset: mean, median, mode."
      ],
      "metadata": {
        "id": "xY9B45hJhwh9"
      }
    },
    {
      "cell_type": "markdown",
      "source": [
        "12. Define mean, median, and mode.\n",
        "- Mean: Average value.\n",
        "\n",
        "- Median: Middle value when data is ordered.\n",
        "\n",
        "- Mode: Most frequently occurring value."
      ],
      "metadata": {
        "id": "alTYWTXdhwfo"
      }
    },
    {
      "cell_type": "markdown",
      "source": [
        "13. What is the significance of the measure of central tendency?\n",
        "- Central tendency helps summarize large datasets into a single representative value for comparison or analysis."
      ],
      "metadata": {
        "id": "4egYO2Wphwc1"
      }
    },
    {
      "cell_type": "markdown",
      "source": [
        "14. What is variance, and how is it calculated?\n",
        "Variance measures how far individual data points are from the mean:\n",
        "\n",
        "Variance\n",
        "=\n",
        "∑\n",
        "(\n",
        "x\n",
        "i\n",
        "−\n",
        "mean\n",
        ")\n",
        "2\n",
        "n\n",
        "\n",
        "\n"
      ],
      "metadata": {
        "id": "24kKRr4UhwaK"
      }
    },
    {
      "cell_type": "markdown",
      "source": [
        "15. What is standard deviation, and why is it important?\n",
        "Standard deviation measures data spread around the mean:\n",
        "\n",
        "Standard Deviation\n",
        "=\n",
        "underroot(Variance)\n"
      ],
      "metadata": {
        "id": "CMLKpz3whwW4"
      }
    },
    {
      "cell_type": "markdown",
      "source": [
        "16. Define and explain the term range in statistics.\n",
        "Range represents the difference between the maximum and minimum values:\n",
        "\n",
        "Range\n",
        "=\n",
        "Max\n",
        "−\n",
        "Min\n"
      ],
      "metadata": {
        "id": "5bmacrOKhwMC"
      }
    },
    {
      "cell_type": "markdown",
      "source": [
        "17. What is the difference between variance and standard deviation?\n",
        "- Variance measures squared deviations from the mean; standard deviation is its square root for easier interpretation in original units."
      ],
      "metadata": {
        "id": "UdVs2K8_iVLg"
      }
    },
    {
      "cell_type": "markdown",
      "source": [
        "18. What is skewness in a dataset?\n",
        "- Skewness measures asymmetry in a dataset:\n",
        "\n",
        "- Positive skew: Tail on right side.\n",
        "\n",
        "- Negative skew: Tail on left side"
      ],
      "metadata": {
        "id": "Nt7jZjpAia7G"
      }
    },
    {
      "cell_type": "markdown",
      "source": [
        "19. What does it mean if a dataset is positively or negatively skewed?\n",
        "- Positively skewed: Most values are concentrated on the left; tail extends to the right.\n",
        "\n",
        "- Negatively skewed: Most values are concentrated on the right; tail extends to the left."
      ],
      "metadata": {
        "id": "-26XsQ73ieBZ"
      }
    },
    {
      "cell_type": "markdown",
      "source": [
        "20. Define and explain kurtosis.\n",
        "Kurtosis measures how peaked or flat a distribution is compared to a normal distribution:\n",
        "\n",
        "- High kurtosis: Sharp peak.\n",
        "\n",
        "- Low kurtosis: Flat peak."
      ],
      "metadata": {
        "id": "4riijvmtijfr"
      }
    },
    {
      "cell_type": "markdown",
      "source": [
        "21. What is the purpose of covariance?\n",
        "Covariance measures how two variables change together:\n",
        "\n",
        "Covariance\n",
        "=\n",
        "∑\n",
        "(\n",
        "x\n",
        "i\n",
        "−\n",
        "x\n",
        "ˉ\n",
        ")\n",
        "(\n",
        "y\n",
        "i\n",
        "−\n",
        "y\n",
        "ˉ\n",
        ")/\n",
        "n\n"
      ],
      "metadata": {
        "id": "LyzQ4ly9imQp"
      }
    },
    {
      "cell_type": "markdown",
      "source": [
        "22. What does correlation measure in statistics?\n",
        "Correlation quantifies strength and direction of linear relationships between variables using values between\n",
        "−\n",
        "1\n",
        "−1 and\n",
        "+\n",
        "1\n",
        "+1"
      ],
      "metadata": {
        "id": "p34sPD_uisCp"
      }
    },
    {
      "cell_type": "markdown",
      "source": [
        "23. What is the difference between covariance and correlation?\n",
        "Covariance shows direction of relationship; correlation standardizes covariance to measure strength using normalized values (\n",
        "r).\n"
      ],
      "metadata": {
        "id": "nJzjnJEiitzo"
      }
    },
    {
      "cell_type": "markdown",
      "source": [
        "24. What are some real-world applications of statistics?\n",
        "Statistics are applied in:\n",
        "\n",
        "- Healthcare: Analyzing treatment outcomes.\n",
        "\n",
        "- Business: Market research.\n",
        "\n",
        "- Education: Performance analysis.\n",
        "\n",
        "- Sports: Player performance metrics."
      ],
      "metadata": {
        "id": "L2BaUUbRixyZ"
      }
    },
    {
      "cell_type": "markdown",
      "source": [
        "**Practical**"
      ],
      "metadata": {
        "id": "1fWmYCF4i22V"
      }
    },
    {
      "cell_type": "code",
      "source": [
        "#  <!-- 1. How do you calculate the mean, median, and mode of a dataset? --> -->\n",
        "import numpy as np\n",
        "from scipy.stats import mode\n",
        "\n",
        "data = [10, 20, 20, 30, 40]\n",
        "\n",
        "mean = np.mean(data)\n",
        "median = np.median(data)\n",
        "mode_value = mode(data, keepdims=True).mode[0]\n",
        "\n",
        "print(f\"Mean: {mean}, Median: {median}, Mode: {mode_value}\")\n",
        "\n"
      ],
      "metadata": {
        "colab": {
          "base_uri": "https://localhost:8080/"
        },
        "id": "bpRs_crvtP0G",
        "outputId": "e05bcc7b-0ae8-4f3a-ba03-c3661db0af3b"
      },
      "execution_count": 29,
      "outputs": [
        {
          "output_type": "stream",
          "name": "stdout",
          "text": [
            "Mean: 24.0, Median: 20.0, Mode: 20\n"
          ]
        }
      ]
    },
    {
      "cell_type": "code",
      "source": [
        "# 2. Write a Python program to compute the variance and standard deviation of a dataset\n",
        "data = [10, 20, 30, 40, 50]\n",
        "\n",
        "variance = np.var(data)\n",
        "std_dev = np.std(data)\n",
        "\n",
        "print(f\"Variance: {variance}, Standard Deviation: {std_dev}\")\n"
      ],
      "metadata": {
        "colab": {
          "base_uri": "https://localhost:8080/"
        },
        "id": "iZzn4ayHtUAe",
        "outputId": "88dec035-4080-42ee-bc5c-f5c845277cb4"
      },
      "execution_count": 6,
      "outputs": [
        {
          "output_type": "stream",
          "name": "stdout",
          "text": [
            "Variance: 200.0, Standard Deviation: 14.142135623730951\n"
          ]
        }
      ]
    },
    {
      "cell_type": "code",
      "source": [
        "# 3. Create a dataset and classify it into nominal, ordinal, interval, and ratio types\n",
        "nominal_data = [\"Red\", \"Blue\", \"Green\"]\n",
        "ordinal_data = [\"Low\", \"Medium\", \"High\"]\n",
        "interval_data = [-10, 0, 10, 20]\n",
        "ratio_data = [1.5, 2.0, 3.5]\n",
        "\n",
        "print(f\"Nominal: {nominal_data}, Ordinal: {ordinal_data}, Interval: {interval_data}, Ratio: {ratio_data}\")\n"
      ],
      "metadata": {
        "colab": {
          "base_uri": "https://localhost:8080/"
        },
        "id": "i3lTgRGPts3S",
        "outputId": "8ddfd479-0057-4c6f-eaf7-357b0fdcc99f"
      },
      "execution_count": 7,
      "outputs": [
        {
          "output_type": "stream",
          "name": "stdout",
          "text": [
            "Nominal: ['Red', 'Blue', 'Green'], Ordinal: ['Low', 'Medium', 'High'], Interval: [-10, 0, 10, 20], Ratio: [1.5, 2.0, 3.5]\n"
          ]
        }
      ]
    },
    {
      "cell_type": "code",
      "source": [
        "# 4. Implement sampling techniques like random sampling and stratified sampling\n",
        "import pandas as pd\n",
        "\n",
        "data = pd.DataFrame({\"Category\": [\"A\", \"A\", \"B\", \"B\", \"C\", \"C\"], \"Value\": [10, 20, 30, 40, 50, 60]})\n",
        "\n",
        "random_sample = data.sample(n=3)\n",
        "stratified_sample = data.groupby(\"Category\").apply(lambda x: x.sample(1)).reset_index(drop=True)\n",
        "\n",
        "print(\"Random Sample:\\n\", random_sample)\n",
        "print(\"Stratified Sample:\\n\", stratified_sample)\n"
      ],
      "metadata": {
        "colab": {
          "base_uri": "https://localhost:8080/"
        },
        "id": "QZWNBOtwtT2q",
        "outputId": "bcc64eb8-84a2-441f-9aea-fba95d24482f"
      },
      "execution_count": 8,
      "outputs": [
        {
          "output_type": "stream",
          "name": "stdout",
          "text": [
            "Random Sample:\n",
            "   Category  Value\n",
            "5        C     60\n",
            "1        A     20\n",
            "0        A     10\n",
            "Stratified Sample:\n",
            "   Category  Value\n",
            "0        A     10\n",
            "1        B     30\n",
            "2        C     50\n"
          ]
        },
        {
          "output_type": "stream",
          "name": "stderr",
          "text": [
            "<ipython-input-8-dcd7b43d2c5e>:7: DeprecationWarning: DataFrameGroupBy.apply operated on the grouping columns. This behavior is deprecated, and in a future version of pandas the grouping columns will be excluded from the operation. Either pass `include_groups=False` to exclude the groupings or explicitly select the grouping columns after groupby to silence this warning.\n",
            "  stratified_sample = data.groupby(\"Category\").apply(lambda x: x.sample(1)).reset_index(drop=True)\n"
          ]
        }
      ]
    },
    {
      "cell_type": "code",
      "source": [
        "# 5. Write a Python function to calculate the range of a dataset\n",
        "def calculate_range(data):\n",
        "    return max(data) - min(data)\n",
        "\n",
        "data = [10, 20, 30, 40]\n",
        "print(f\"Range: {calculate_range(data)}\")\n"
      ],
      "metadata": {
        "colab": {
          "base_uri": "https://localhost:8080/"
        },
        "id": "IEDzjWBGtTw9",
        "outputId": "2986a64b-22f0-4a80-e1b1-84529e2f6c78"
      },
      "execution_count": 9,
      "outputs": [
        {
          "output_type": "stream",
          "name": "stdout",
          "text": [
            "Range: 30\n"
          ]
        }
      ]
    },
    {
      "cell_type": "code",
      "source": [
        "# 6. Create a dataset and plot its histogram to visualize skewness\n",
        "import matplotlib.pyplot as plt\n",
        "\n",
        "data = np.random.normal(loc=50, scale=10, size=1000)\n",
        "\n",
        "plt.hist(data, bins=30, color=\"skyblue\", edgecolor=\"black\")\n",
        "plt.title(\"Histogram to Visualize Skewness\")\n",
        "plt.xlabel(\"Values\")\n",
        "plt.ylabel(\"Frequency\")\n",
        "plt.show()\n"
      ],
      "metadata": {
        "colab": {
          "base_uri": "https://localhost:8080/",
          "height": 472
        },
        "id": "I0yAkk8_tTsp",
        "outputId": "d676cff9-9f5a-4cd1-9af5-92d719fd27ad"
      },
      "execution_count": 10,
      "outputs": [
        {
          "output_type": "display_data",
          "data": {
            "text/plain": [
              "<Figure size 640x480 with 1 Axes>"
            ],
            "image/png": "[encoded data removed]"
          },
          "metadata": {}
        }
      ]
    },
    {
      "cell_type": "code",
      "source": [
        "# 7. Calculate skewness and kurtosis of a dataset using Python libraries\n",
        "from scipy.stats import skew, kurtosis\n",
        "\n",
        "data = np.random.normal(loc=50, scale=10, size=1000)\n",
        "\n",
        "skewness_value = skew(data)\n",
        "kurtosis_value = kurtosis(data)\n",
        "\n",
        "print(f\"Skewness: {skewness_value}, Kurtosis: {kurtosis_value}\")\n"
      ],
      "metadata": {
        "colab": {
          "base_uri": "https://localhost:8080/"
        },
        "id": "ZmQ7SBS1tTok",
        "outputId": "5cad30d4-8f61-4346-9546-c26c640a0259"
      },
      "execution_count": 11,
      "outputs": [
        {
          "output_type": "stream",
          "name": "stdout",
          "text": [
            "Skewness: 0.22076873677996722, Kurtosis: -0.034470247248104435\n"
          ]
        }
      ]
    },
    {
      "cell_type": "code",
      "source": [
        "# 8. Generate a dataset and demonstrate positive and negative skewness\n",
        "positive_skew_data = np.random.exponential(scale=2.0, size=1000)\n",
        "negative_skew_data = -np.random.exponential(scale=2.0, size=1000)\n",
        "\n",
        "plt.hist(positive_skew_data, bins=30, alpha=0.7, label=\"Positive Skew\")\n",
        "plt.hist(negative_skew_data, bins=30, alpha=0.7, label=\"Negative Skew\")\n",
        "plt.legend()\n",
        "plt.title(\"Positive and Negative Skewness\")\n",
        "plt.show()\n"
      ],
      "metadata": {
        "colab": {
          "base_uri": "https://localhost:8080/",
          "height": 452
        },
        "id": "BGYceKsvtTlL",
        "outputId": "d548f56f-2cbd-4257-e29f-ed43116667da"
      },
      "execution_count": 12,
      "outputs": [
        {
          "output_type": "display_data",
          "data": {
            "text/plain": [
              "<Figure size 640x480 with 1 Axes>"
            ],
            "image/png": "[encoded data removed]"
          },
          "metadata": {}
        }
      ]
    },
    {
      "cell_type": "code",
      "source": [
        "# 9. Write a Python script to calculate covariance between two datasets\n",
        "data1 = np.random.normal(loc=50, scale=10, size=100)\n",
        "data2 = np.random.normal(loc=60, scale=15, size=100)\n",
        "\n",
        "covariance_matrix = np.cov(data1, data2)\n",
        "print(f\"Covariance:\\n{covariance_matrix}\")\n"
      ],
      "metadata": {
        "colab": {
          "base_uri": "https://localhost:8080/"
        },
        "id": "Dxnia06MtTh5",
        "outputId": "90a1a7e2-fa6f-4f3c-9d77-13c13ff6feec"
      },
      "execution_count": 13,
      "outputs": [
        {
          "output_type": "stream",
          "name": "stdout",
          "text": [
            "Covariance:\n",
            "[[118.27825313   0.69486683]\n",
            " [  0.69486683 273.10118866]]\n"
          ]
        }
      ]
    },
    {
      "cell_type": "code",
      "source": [
        "# 10. Write a Python script to calculate the correlation coefficient between two datasets\n",
        "data1 = np.random.normal(loc=50, scale=10, size=100)\n",
        "data2 = np.random.normal(loc=60, scale=15, size=100)\n",
        "\n",
        "correlation_coefficient = np.corrcoef(data1, data2)[0][1]\n",
        "print(f\"Correlation Coefficient: {correlation_coefficient}\")\n"
      ],
      "metadata": {
        "colab": {
          "base_uri": "https://localhost:8080/"
        },
        "id": "hWADKG4XtTeb",
        "outputId": "81be2684-f2c0-47fe-dc06-bae33cc3f9e6"
      },
      "execution_count": 14,
      "outputs": [
        {
          "output_type": "stream",
          "name": "stdout",
          "text": [
            "Correlation Coefficient: -0.05579680952739524\n"
          ]
        }
      ]
    },
    {
      "cell_type": "code",
      "source": [
        "# 11. Create a scatter plot to visualize the relationship between two variables\n",
        "plt.scatter(data1, data2)\n",
        "plt.title(\"Scatter Plot of Two Variables\")\n",
        "plt.xlabel(\"Data1\")\n",
        "plt.ylabel(\"Data2\")\n",
        "plt.show()\n"
      ],
      "metadata": {
        "colab": {
          "base_uri": "https://localhost:8080/",
          "height": 472
        },
        "id": "bylOMLzWtTYS",
        "outputId": "ade49210-ca46-4163-b0ff-1abd5d92c2fe"
      },
      "execution_count": 15,
      "outputs": [
        {
          "output_type": "display_data",
          "data": {
            "text/plain": [
              "<Figure size 640x480 with 1 Axes>"
            ],
            "image/png": "[encoded data removed]"
          },
          "metadata": {}
        }
      ]
    },
    {
      "cell_type": "code",
      "source": [
        "# 12. Implement and compare simple random sampling and systematic sampling\n",
        "data = pd.DataFrame({\"Value\": range(1, 101)})\n",
        "\n",
        "random_sample = data.sample(n=10)\n",
        "systematic_sample = data.iloc[::10]\n",
        "\n",
        "print(\"Random Sample:\\n\", random_sample)\n",
        "print(\"Systematic Sample:\\n\", systematic_sample)\n"
      ],
      "metadata": {
        "colab": {
          "base_uri": "https://localhost:8080/"
        },
        "id": "kZmIH7xDuVOr",
        "outputId": "254b589a-dd15-4df8-a3dd-028c94ef1541"
      },
      "execution_count": 16,
      "outputs": [
        {
          "output_type": "stream",
          "name": "stdout",
          "text": [
            "Random Sample:\n",
            "     Value\n",
            "86     87\n",
            "83     84\n",
            "45     46\n",
            "30     31\n",
            "9      10\n",
            "4       5\n",
            "94     95\n",
            "48     49\n",
            "91     92\n",
            "40     41\n",
            "Systematic Sample:\n",
            "     Value\n",
            "0       1\n",
            "10     11\n",
            "20     21\n",
            "30     31\n",
            "40     41\n",
            "50     51\n",
            "60     61\n",
            "70     71\n",
            "80     81\n",
            "90     91\n"
          ]
        }
      ]
    },
    {
      "cell_type": "code",
      "source": [
        "# 13. Calculate the mean, median, and mode of grouped data\n",
        "grouped_data = {\"Range\": [\"0-10\", \"10-20\", \"20-30\"], \"Frequency\": [5, 15, 10]}\n",
        "df_grouped = pd.DataFrame(grouped_data)\n",
        "\n",
        "df_grouped[\"Midpoint\"] = df_grouped[\"Range\"].apply(lambda x: (int(x.split(\"-\")[0]) + int(x.split(\"-\")[1])) / 2)\n",
        "mean_grouped = np.sum(df_grouped[\"Midpoint\"] * df_grouped[\"Frequency\"]) / df_grouped[\"Frequency\"].sum()\n",
        "\n",
        "print(f\"Mean of Grouped Data: {mean_grouped}\")\n"
      ],
      "metadata": {
        "colab": {
          "base_uri": "https://localhost:8080/"
        },
        "id": "OHu0LnzquVL4",
        "outputId": "8bdf3554-6f83-4545-e762-eeeff4a434cd"
      },
      "execution_count": 17,
      "outputs": [
        {
          "output_type": "stream",
          "name": "stdout",
          "text": [
            "Mean of Grouped Data: 16.666666666666668\n"
          ]
        }
      ]
    },
    {
      "cell_type": "code",
      "source": [
        "# 14. Simulate data using Python and calculate its central tendency and dispersion\n",
        "data_simulated = np.random.normal(loc=50, scale=10, size=1000)\n",
        "\n",
        "mean_simulated = np.mean(data_simulated)\n",
        "median_simulated = np.median(data_simulated)\n",
        "std_dev_simulated = np.std(data_simulated)\n",
        "\n",
        "print(f\"Mean: {mean_simulated}, Median: {median_simulated}, Standard Deviation: {std_dev_simulated}\")\n"
      ],
      "metadata": {
        "colab": {
          "base_uri": "https://localhost:8080/"
        },
        "id": "UnRHBZsuuVJN",
        "outputId": "e8de82ae-b9d7-4882-d5f4-96163fb17380"
      },
      "execution_count": 18,
      "outputs": [
        {
          "output_type": "stream",
          "name": "stdout",
          "text": [
            "Mean: 49.4255522212553, Median: 49.334735411898805, Standard Deviation: 9.423581253165937\n"
          ]
        }
      ]
    },
    {
      "cell_type": "code",
      "source": [
        "# 15. Summarize a dataset’s descriptive statistics using NumPy or pandas\n",
        "import pandas as pd\n",
        "import numpy as np\n",
        "\n",
        "data = np.random.normal(loc=50, scale=10, size=100)\n",
        "df = pd.DataFrame(data, columns=[\"Values\"])\n",
        "print(df.describe())\n"
      ],
      "metadata": {
        "colab": {
          "base_uri": "https://localhost:8080/"
        },
        "id": "UHGjcFOguhZI",
        "outputId": "8421d6c4-93ad-4cb3-945e-155e765180af"
      },
      "execution_count": 19,
      "outputs": [
        {
          "output_type": "stream",
          "name": "stdout",
          "text": [
            "           Values\n",
            "count  100.000000\n",
            "mean    50.851585\n",
            "std     10.241863\n",
            "min     20.780724\n",
            "25%     43.718442\n",
            "50%     52.449224\n",
            "75%     58.650137\n",
            "max     76.064426\n"
          ]
        }
      ]
    },
    {
      "cell_type": "code",
      "source": [
        "# 16. Plot a boxplot to understand the spread and identify outliers\n",
        "import matplotlib.pyplot as plt\n",
        "\n",
        "data = np.random.normal(loc=50, scale=10, size=100)\n",
        "plt.boxplot(data)\n",
        "plt.title(\"Boxplot\")\n",
        "plt.ylabel(\"Values\")\n",
        "plt.show()\n"
      ],
      "metadata": {
        "colab": {
          "base_uri": "https://localhost:8080/",
          "height": 452
        },
        "id": "xL-20mfWuVGT",
        "outputId": "cb3e41f1-9002-4920-eb82-8a9216c35b94"
      },
      "execution_count": 20,
      "outputs": [
        {
          "output_type": "display_data",
          "data": {
            "text/plain": [
              "<Figure size 640x480 with 1 Axes>"
            ],
            "image/png": "[encoded data removed]"
          },
          "metadata": {}
        }
      ]
    },
    {
      "cell_type": "code",
      "source": [
        "# 17. Calculate the interquartile range (IQR) of a dataset\n",
        "data = np.random.normal(loc=50, scale=10, size=100)\n",
        "q1 = np.percentile(data, 25)\n",
        "q3 = np.percentile(data, 75)\n",
        "iqr = q3 - q1\n",
        "print(f\"IQR: {iqr}\")\n"
      ],
      "metadata": {
        "colab": {
          "base_uri": "https://localhost:8080/"
        },
        "id": "LmdvMBtDuU_f",
        "outputId": "0bb40933-81b6-4ed5-9a3b-1783c89076ba"
      },
      "execution_count": 21,
      "outputs": [
        {
          "output_type": "stream",
          "name": "stdout",
          "text": [
            "IQR: 12.815731904102158\n"
          ]
        }
      ]
    },
    {
      "cell_type": "code",
      "source": [
        "# 18. Implement Z-score normalization\n",
        "data = np.random.normal(loc=50, scale=10, size=100)\n",
        "mean = np.mean(data)\n",
        "std_dev = np.std(data)\n",
        "z_scores = (data - mean) / std_dev\n",
        "print(z_scores)\n"
      ],
      "metadata": {
        "colab": {
          "base_uri": "https://localhost:8080/"
        },
        "id": "AhKK0iaKu95l",
        "outputId": "45f5da3b-0cb0-4044-fdf9-bb15d6adfe65"
      },
      "execution_count": 22,
      "outputs": [
        {
          "output_type": "stream",
          "name": "stdout",
          "text": [
            "[ 0.29000419 -0.10199062 -0.45773597  0.8432159   0.11091302  0.74942281\n",
            "  0.87434872 -0.63585023  1.19931281 -2.01656681  1.17385851 -1.49046347\n",
            " -0.75895658 -0.69337765 -0.09434602  0.35021639  0.15825129 -1.0202624\n",
            "  0.1546992   1.22348395 -0.60030162 -0.6535573  -1.32115061 -1.20716719\n",
            " -0.60147661 -0.11640093 -0.66942211 -0.30206527  0.44447164 -0.34136833\n",
            "  0.044596   -1.05785266 -0.31312078  2.10893072  0.45477467  2.50744253\n",
            " -0.36768015 -1.30261891  0.88687793 -0.53589764 -0.61826144 -0.50845978\n",
            "  1.2770307  -3.0406658   0.2141012   0.61120693  1.45147515 -0.64715198\n",
            "  2.819252    0.11152766  0.60986995  1.29282342  1.60617201  1.46521587\n",
            " -0.68544198  1.16607553  0.93141635 -0.41502515  0.46792334 -0.06893669\n",
            " -0.03033421  0.3206298  -0.13478891 -0.95997382 -2.36771811 -0.39375346\n",
            " -0.77885482 -0.44568724 -0.13247346 -0.31048104  0.47807823  0.23172925\n",
            " -0.81504735  0.59182615  0.40036891 -1.69295269 -0.01694102 -0.71411235\n",
            "  0.04871826  1.90195972  2.43415493  1.13335054  0.97462684 -0.60941472\n",
            " -0.13734993 -0.83243051 -1.16992226 -0.72746886  0.04499274  0.82559344\n",
            " -0.19044085 -0.27456186 -0.46624401  0.57580351  0.21089946 -0.17413813\n",
            " -0.18059918 -1.0002693   0.67776747 -1.2498789 ]\n"
          ]
        }
      ]
    },
    {
      "cell_type": "code",
      "source": [
        "# 19. Compare two datasets using their standard deviations\n",
        "data1 = np.random.normal(loc=50, scale=10, size=100)\n",
        "data2 = np.random.normal(loc=60, scale=15, size=100)\n",
        "\n",
        "std_dev1 = np.std(data1)\n",
        "std_dev2 = np.std(data2)\n",
        "\n",
        "print(f\"Standard Deviation of Dataset 1: {std_dev1}\")\n",
        "print(f\"Standard Deviation of Dataset 2: {std_dev2}\")\n"
      ],
      "metadata": {
        "colab": {
          "base_uri": "https://localhost:8080/"
        },
        "id": "hR5raEQ6u93A",
        "outputId": "ec8cb441-294d-46b7-9d25-a2ac93ffffb5"
      },
      "execution_count": 23,
      "outputs": [
        {
          "output_type": "stream",
          "name": "stdout",
          "text": [
            "Standard Deviation of Dataset 1: 9.782825862607085\n",
            "Standard Deviation of Dataset 2: 15.857536308854996\n"
          ]
        }
      ]
    },
    {
      "cell_type": "code",
      "source": [
        "# 20. Visualize covariance using a heatmap\n",
        "import seaborn as sns\n",
        "\n",
        "data1 = np.random.normal(loc=50, scale=10, size=100)\n",
        "data2 = np.random.normal(loc=60, scale=15, size=100)\n",
        "\n",
        "cov_matrix = np.cov(data1, data2)\n",
        "sns.heatmap(cov_matrix, annot=True)\n",
        "plt.title(\"Covariance Heatmap\")\n",
        "plt.show()\n"
      ],
      "metadata": {
        "colab": {
          "base_uri": "https://localhost:8080/",
          "height": 452
        },
        "id": "IL3iygLsu90K",
        "outputId": "eb6df8f1-1526-40bd-9b7a-1fa37b029f57"
      },
      "execution_count": 24,
      "outputs": [
        {
          "output_type": "display_data",
          "data": {
            "text/plain": [
              "<Figure size 640x480 with 2 Axes>"
            ],
            "image/png": "[encoded data removed]"
          },
          "metadata": {}
        }
      ]
    },
    {
      "cell_type": "code",
      "source": [
        "# 21. Create a correlation matrix using seaborn\n",
        "import pandas as pd\n",
        "\n",
        "data1 = np.random.normal(loc=50, scale=10, size=100)\n",
        "data2 = np.random.normal(loc=60, scale=15, size=100)\n",
        "data3 = np.random.normal(loc=70, scale=20, size=100)\n",
        "\n",
        "df = pd.DataFrame({\"Data1\": data1, \"Data2\": data2, \"Data3\": data3})\n",
        "correlation_matrix = df.corr()\n",
        "\n",
        "sns.heatmap(correlation_matrix, annot=True)\n",
        "plt.title(\"Correlation Matrix\")\n",
        "plt.show()\n"
      ],
      "metadata": {
        "colab": {
          "base_uri": "https://localhost:8080/",
          "height": 452
        },
        "id": "8_gb26V5vLFC",
        "outputId": "01fd1da5-02bd-477d-9338-02c4f4995531"
      },
      "execution_count": 25,
      "outputs": [
        {
          "output_type": "display_data",
          "data": {
            "text/plain": [
              "<Figure size 640x480 with 2 Axes>"
            ],
            "image/png": "[encoded data removed]"
          },
          "metadata": {}
        }
      ]
    },
    {
      "cell_type": "code",
      "source": [
        "# 22. Compute variance and standard deviation for a dataset\n",
        "data = np.random.normal(loc=50, scale=10, size=100)\n",
        "\n",
        "variance = np.var(data)\n",
        "std_dev = np.std(data)\n",
        "\n",
        "print(f\"Variance: {variance}\")\n",
        "print(f\"Standard Deviation: {std_dev}\")\n"
      ],
      "metadata": {
        "colab": {
          "base_uri": "https://localhost:8080/"
        },
        "id": "t1TkWXSUvLB_",
        "outputId": "33eb140b-39e7-47b9-c2ce-2f1b9f45fba1"
      },
      "execution_count": 26,
      "outputs": [
        {
          "output_type": "stream",
          "name": "stdout",
          "text": [
            "Variance: 106.55238985506654\n",
            "Standard Deviation: 10.322421704961803\n"
          ]
        }
      ]
    },
    {
      "cell_type": "code",
      "source": [
        "# 23. Visualize skewness and kurtosis using matplotlib or seaborn\n",
        "from scipy.stats import skew, kurtosis\n",
        "\n",
        "data = np.random.normal(loc=50, scale=10, size=100)\n",
        "\n",
        "skewness_value = skew(data)\n",
        "kurtosis_value = kurtosis(data)\n",
        "\n",
        "sns.histplot(data, kde=True)\n",
        "plt.title(f\"Skewness: {skewness_value:.2f}, Kurtosis: {kurtosis_value:.2f}\")\n",
        "plt.show()\n"
      ],
      "metadata": {
        "colab": {
          "base_uri": "https://localhost:8080/",
          "height": 452
        },
        "id": "K2FRINXivK-z",
        "outputId": "7f40367f-873d-4dcf-d362-3fe4c9395e9e"
      },
      "execution_count": 27,
      "outputs": [
        {
          "output_type": "display_data",
          "data": {
            "text/plain": [
              "<Figure size 640x480 with 1 Axes>"
            ],
            "image/png": "[encoded data removed]"
          },
          "metadata": {}
        }
      ]
    },
    {
      "cell_type": "code",
      "source": [
        "# 24. Implement Pearson and Spearman correlation coefficients\n",
        "from scipy.stats import pearsonr, spearmanr\n",
        "\n",
        "data1 = np.random.normal(loc=50, scale=10, size=100)\n",
        "data2 = np.random.normal(loc=60, scale=15, size=100)\n",
        "\n",
        "pearson_corr, _ = pearsonr(data1, data2)\n",
        "spearman_corr, _ = spearmanr(data1, data2)\n",
        "\n",
        "print(f\"Pearson Correlation Coefficient: {pearson_corr}\")\n",
        "print(f\"Spearman Correlation Coefficient: {spearman_corr}\")\n"
      ],
      "metadata": {
        "colab": {
          "base_uri": "https://localhost:8080/"
        },
        "id": "vnz05ULqvXhc",
        "outputId": "ad0f95f1-7391-4368-caff-8d8699b431be"
      },
      "execution_count": 28,
      "outputs": [
        {
          "output_type": "stream",
          "name": "stdout",
          "text": [
            "Pearson Correlation Coefficient: -0.1387025000532177\n",
            "Spearman Correlation Coefficient: -0.06685868586858686\n"
          ]
        }
      ]
    }
  ]
}